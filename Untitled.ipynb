{
 "cells": [
  {
   "cell_type": "markdown",
   "metadata": {},
   "source": [
    "# Laboratorio 1: Inversión del Capital\n",
    "\n",
    "## Job Ramírez\n",
    "## 708361"
   ]
  },
  {
   "cell_type": "markdown",
   "metadata": {},
   "source": [
    "### 0. Librerías y dependencias"
   ]
  },
  {
   "cell_type": "markdown",
   "metadata": {},
   "source": [
    "Para realizar este proyecto, se necesitó de las siguientes librerías, las cuales se pueden localizar en el archivo requirements.txt, de igual manera las siguientes dependencias:"
   ]
  },
  {
   "cell_type": "markdown",
   "metadata": {},
   "source": [
    "|   Librerias    |                       Dependencias                     |\n",
    "|:--------------:|:------------------------------------------------------:|\n",
    "| pandas>=1.1.0  | Todos los archivos de la ruta: files:/NAFTRAC_HOLDINGS |\n",
    "| numpy>=1.19.1  |                                                        | \n",
    "| jupyter>=1.0.0 |                                                        |\n",
    " "
   ]
  },
  {
   "cell_type": "code",
   "execution_count": 6,
   "metadata": {
    "ExecuteTime": {
     "end_time": "2020-09-10T01:27:00.393413Z",
     "start_time": "2020-09-10T01:26:53.202211Z"
    }
   },
   "outputs": [],
   "source": [
    "import yfinance as yf\n"
   ]
  },
  {
   "cell_type": "code",
   "execution_count": 30,
   "metadata": {
    "ExecuteTime": {
     "end_time": "2020-09-10T01:40:18.554003Z",
     "start_time": "2020-09-10T01:40:18.549017Z"
    }
   },
   "outputs": [
    {
     "data": {
      "text/plain": [
       "'C:\\\\Users\\\\jobch\\\\Documents\\\\ITESO\\\\OneDrive - ITESO\\\\ITESO\\\\9no Semestre\\\\Microestructuras y Sistemas de Trading\\\\myst_lab1_JRC\\\\files\\\\NAFTRAC_holdings'"
      ]
     },
     "execution_count": 30,
     "metadata": {},
     "output_type": "execute_result"
    }
   ],
   "source": [
    "from os import path\n",
    "import functions\n",
    "import data \n",
    "import yfinance as yf\n",
    "\n",
    "abspath = path.abspath('files/NAFTRAC_holdings')\n",
    "abspath\n"
   ]
  },
  {
   "cell_type": "code",
   "execution_count": 34,
   "metadata": {
    "ExecuteTime": {
     "end_time": "2020-09-10T01:40:39.573801Z",
     "start_time": "2020-09-10T01:40:39.318458Z"
    }
   },
   "outputs": [
    {
     "data": {
      "text/html": [
       "<div>\n",
       "<style scoped>\n",
       "    .dataframe tbody tr th:only-of-type {\n",
       "        vertical-align: middle;\n",
       "    }\n",
       "\n",
       "    .dataframe tbody tr th {\n",
       "        vertical-align: top;\n",
       "    }\n",
       "\n",
       "    .dataframe thead th {\n",
       "        text-align: right;\n",
       "    }\n",
       "</style>\n",
       "<table border=\"1\" class=\"dataframe\">\n",
       "  <thead>\n",
       "    <tr style=\"text-align: right;\">\n",
       "      <th></th>\n",
       "      <th>Ticker</th>\n",
       "      <th>Nombre</th>\n",
       "      <th>Clase de activo</th>\n",
       "      <th>Peso (%)</th>\n",
       "      <th>Precio</th>\n",
       "      <th>Acciones</th>\n",
       "      <th>Valor de mercado</th>\n",
       "      <th>Valor nominal</th>\n",
       "      <th>Sector</th>\n",
       "      <th>ISIN</th>\n",
       "      <th>Bolsa de valores</th>\n",
       "      <th>Ubicación</th>\n",
       "      <th>Moneda</th>\n",
       "      <th>Mercado de divisas</th>\n",
       "      <th>Tipo de Cambio</th>\n",
       "    </tr>\n",
       "  </thead>\n",
       "  <tbody>\n",
       "    <tr>\n",
       "      <th>0</th>\n",
       "      <td>AMXL</td>\n",
       "      <td>AMERICA MOVIL L</td>\n",
       "      <td>Equity</td>\n",
       "      <td>0.1392</td>\n",
       "      <td>13.91</td>\n",
       "      <td>558,797,152.00</td>\n",
       "      <td>7,772,868,384.32</td>\n",
       "      <td>7,772,868,384.32</td>\n",
       "      <td>Comunicación</td>\n",
       "      <td>MXP001691213</td>\n",
       "      <td>Bolsa Mexicana De Valores</td>\n",
       "      <td>México</td>\n",
       "      <td>MXN</td>\n",
       "      <td>MXN</td>\n",
       "      <td>1.00</td>\n",
       "    </tr>\n",
       "    <tr>\n",
       "      <th>1</th>\n",
       "      <td>WALMEX</td>\n",
       "      <td>WALMART DE MEXICO V</td>\n",
       "      <td>Equity</td>\n",
       "      <td>0.1233</td>\n",
       "      <td>56.76</td>\n",
       "      <td>121,353,767.00</td>\n",
       "      <td>6,888,039,814.92</td>\n",
       "      <td>6,888,039,814.92</td>\n",
       "      <td>Productos básicos de consumo</td>\n",
       "      <td>MX01WA000038</td>\n",
       "      <td>Bolsa Mexicana De Valores</td>\n",
       "      <td>México</td>\n",
       "      <td>MXN</td>\n",
       "      <td>MXN</td>\n",
       "      <td>1.00</td>\n",
       "    </tr>\n",
       "    <tr>\n",
       "      <th>2</th>\n",
       "      <td>FEMSAUBD</td>\n",
       "      <td>FOMENTO ECONOMICO MEXICANO</td>\n",
       "      <td>Equity</td>\n",
       "      <td>0.1018</td>\n",
       "      <td>127.58</td>\n",
       "      <td>44,541,671.00</td>\n",
       "      <td>5,682,626,386.18</td>\n",
       "      <td>5,682,626,386.18</td>\n",
       "      <td>Productos básicos de consumo</td>\n",
       "      <td>MXP320321310</td>\n",
       "      <td>Bolsa Mexicana De Valores</td>\n",
       "      <td>México</td>\n",
       "      <td>MXN</td>\n",
       "      <td>MXN</td>\n",
       "      <td>1.00</td>\n",
       "    </tr>\n",
       "    <tr>\n",
       "      <th>3</th>\n",
       "      <td>GFNORTEO</td>\n",
       "      <td>GPO FINANCE BANORTE</td>\n",
       "      <td>Equity</td>\n",
       "      <td>0.0848</td>\n",
       "      <td>80.59</td>\n",
       "      <td>58,737,272.00</td>\n",
       "      <td>4,733,636,750.48</td>\n",
       "      <td>4,733,636,750.48</td>\n",
       "      <td>Financieros</td>\n",
       "      <td>MXP370711014</td>\n",
       "      <td>Bolsa Mexicana De Valores</td>\n",
       "      <td>México</td>\n",
       "      <td>MXN</td>\n",
       "      <td>MXN</td>\n",
       "      <td>1.00</td>\n",
       "    </tr>\n",
       "    <tr>\n",
       "      <th>4</th>\n",
       "      <td>GMEXICOB</td>\n",
       "      <td>GRUPO MEXICO B</td>\n",
       "      <td>Equity</td>\n",
       "      <td>0.0800</td>\n",
       "      <td>58.42</td>\n",
       "      <td>76,492,634.00</td>\n",
       "      <td>4,468,699,678.28</td>\n",
       "      <td>4,468,699,678.28</td>\n",
       "      <td>Materiales</td>\n",
       "      <td>MXP370841019</td>\n",
       "      <td>Bolsa Mexicana De Valores</td>\n",
       "      <td>México</td>\n",
       "      <td>MXN</td>\n",
       "      <td>MXN</td>\n",
       "      <td>1.00</td>\n",
       "    </tr>\n",
       "  </tbody>\n",
       "</table>\n",
       "</div>"
      ],
      "text/plain": [
       "     Ticker                      Nombre Clase de activo  Peso (%)  Precio  \\\n",
       "0      AMXL             AMERICA MOVIL L          Equity    0.1392   13.91   \n",
       "1    WALMEX         WALMART DE MEXICO V          Equity    0.1233   56.76   \n",
       "2  FEMSAUBD  FOMENTO ECONOMICO MEXICANO          Equity    0.1018  127.58   \n",
       "3  GFNORTEO         GPO FINANCE BANORTE          Equity    0.0848   80.59   \n",
       "4  GMEXICOB              GRUPO MEXICO B          Equity    0.0800   58.42   \n",
       "\n",
       "         Acciones  Valor de mercado     Valor nominal  \\\n",
       "0  558,797,152.00  7,772,868,384.32  7,772,868,384.32   \n",
       "1  121,353,767.00  6,888,039,814.92  6,888,039,814.92   \n",
       "2   44,541,671.00  5,682,626,386.18  5,682,626,386.18   \n",
       "3   58,737,272.00  4,733,636,750.48  4,733,636,750.48   \n",
       "4   76,492,634.00  4,468,699,678.28  4,468,699,678.28   \n",
       "\n",
       "                         Sector          ISIN           Bolsa de valores  \\\n",
       "0                  Comunicación  MXP001691213  Bolsa Mexicana De Valores   \n",
       "1  Productos básicos de consumo  MX01WA000038  Bolsa Mexicana De Valores   \n",
       "2  Productos básicos de consumo  MXP320321310  Bolsa Mexicana De Valores   \n",
       "3                   Financieros  MXP370711014  Bolsa Mexicana De Valores   \n",
       "4                    Materiales  MXP370841019  Bolsa Mexicana De Valores   \n",
       "\n",
       "  Ubicación Moneda Mercado de divisas Tipo de Cambio  \n",
       "0    México    MXN                MXN           1.00  \n",
       "1    México    MXN                MXN           1.00  \n",
       "2    México    MXN                MXN           1.00  \n",
       "3    México    MXN                MXN           1.00  \n",
       "4    México    MXN                MXN           1.00  "
      ]
     },
     "execution_count": 34,
     "metadata": {},
     "output_type": "execute_result"
    }
   ],
   "source": [
    "path = data.f_pathnames()\n",
    "dictionary = f_dictionary(path)\n",
    "dictionary[path[0]].head(5)"
   ]
  },
  {
   "cell_type": "code",
   "execution_count": null,
   "metadata": {},
   "outputs": [],
   "source": []
  }
 ],
 "metadata": {
  "kernelspec": {
   "display_name": "Python 3",
   "language": "python",
   "name": "python3"
  },
  "language_info": {
   "codemirror_mode": {
    "name": "ipython",
    "version": 3
   },
   "file_extension": ".py",
   "mimetype": "text/x-python",
   "name": "python",
   "nbconvert_exporter": "python",
   "pygments_lexer": "ipython3",
   "version": "3.8.3"
  }
 },
 "nbformat": 4,
 "nbformat_minor": 4
}
