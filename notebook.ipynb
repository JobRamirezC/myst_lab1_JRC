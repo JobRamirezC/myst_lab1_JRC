{
 "cells": [
  {
   "cell_type": "markdown",
   "metadata": {
    "collapsed": true
   },
   "source": [
    "<img src=\"http://oci02.img.iteso.mx/identidad_de_instancia_2018/ITESO/Logos%20ITESO/Logo-ITESO-Principal.jpg\">"
   ]
  },
  {
   "cell_type": "markdown",
   "metadata": {},
   "source": [
    "<center><font color=#555555><font size=6> Ingeniería Financiera </font> <br> <br>\n",
    "\n",
    "<center><font color=#555555><font size=5> ITE1731 - Microestructura y Sistemas de Trading </font> <br> <br> <br>\n",
    "\n",
    "<center><font color=#555555><font size=5> I.F. Job Ramirez Camberi </font> <br> <br>\n",
    "   \n",
    "<center> <font color= #555555> <font size = 4> Septiembre 2020 </a> | <font color= #555555> <font size = 4> Repositorio: <a href='https://github.com/JobRamirezC'>Link</a></font>"
   ]
  },
  {
   "cell_type": "markdown",
   "metadata": {},
   "source": [
    "<br>"
   ]
  },
  {
   "cell_type": "markdown",
   "metadata": {},
   "source": [
    "---"
   ]
  },
  {
   "cell_type": "markdown",
   "metadata": {},
   "source": [
    "<br>"
   ]
  },
  {
   "cell_type": "markdown",
   "metadata": {},
   "source": [
    "<br>"
   ]
  },
  {
   "cell_type": "markdown",
   "metadata": {},
   "source": [
    "<center> <font color= #555555> <font size = 7> Laboratorio 1 </font> <br> <br> <font color= #555555> <font size = 5> Inversión del Capital </font>"
   ]
  },
  {
   "cell_type": "markdown",
   "metadata": {},
   "source": [
    "# <font color= #555555> <font size = 5> Abstract </font>"
   ]
  },
  {
   "cell_type": "markdown",
   "metadata": {},
   "source": [
    "<font color= #6B6B6B> <font size = 2> Este documento fue elaborado por tu **nombre completo**, como un trabajo parcial para la materia de **Microestructura y Sistemas de Trading - ITE1731**, la cual es parte del curriculum de la licenciatura en Ingeniería Financiera, ofertada por la universidad **ITESO**. En el presente trabajo se plantea la respuesta a la siguiente pregutna: *¿Qué estrategia de inversión propondrías si tu trabajo fuera administrar 1 Millón de pesos?*</font>"
   ]
  },
  {
   "cell_type": "markdown",
   "metadata": {},
   "source": [
    "<br>"
   ]
  },
  {
   "cell_type": "markdown",
   "metadata": {},
   "source": [
    "# <font color= #6B6B6B> <font size = 6> 0. Librerías y Dependencias </font>"
   ]
  },
  {
   "cell_type": "markdown",
   "metadata": {},
   "source": [
    "<hr style=\"border:0.02in solid gray\"> </hr>"
   ]
  },
  {
   "cell_type": "markdown",
   "metadata": {},
   "source": [
    "# <font color= #6B6B6B> <font size = 5> 0.1 Librerías </font> <font color= #555555>"
   ]
  },
  {
   "cell_type": "markdown",
   "metadata": {},
   "source": [
    "Para correr este notebook es necesario tener instaladas y/o en el archivo _requirements.txt_ las siguientes librerías :"
   ]
  },
  {
   "cell_type": "markdown",
   "metadata": {},
   "source": [
    "- pandas>=1.1.1 \n",
    "- numpy>=1.19.1\n",
    "- jupyter>=1.0.0\n",
    "- yfinance>=0.1.54"
   ]
  },
  {
   "cell_type": "markdown",
   "metadata": {},
   "source": [
    "# <font color= #6B6B6B> <font size = 5> 0.2 Dependencias </font> <font color= #555555>"
   ]
  },
  {
   "cell_type": "markdown",
   "metadata": {},
   "source": [
    "Para correr este notebook es necesario contar con los siguientes archivos y dependencias externas:"
   ]
  },
  {
   "cell_type": "markdown",
   "metadata": {},
   "source": [
    "- files/precios.csv : Precios históricos\n",
    "- files/datos.txt : Otros datos históricos"
   ]
  },
  {
   "cell_type": "markdown",
   "metadata": {},
   "source": [
    "<br>"
   ]
  },
  {
   "cell_type": "markdown",
   "metadata": {},
   "source": [
    "# <font color= #6B6B6B> <font size = 6> 1. Introducción </font>"
   ]
  },
  {
   "cell_type": "markdown",
   "metadata": {},
   "source": [
    "<hr style=\"border:0.02in solid gray\"> </hr>"
   ]
  },
  {
   "cell_type": "markdown",
   "metadata": {},
   "source": [
    "<font color= black> <font size=2> __Inversión Pasiva__: La inversión pasiva es un tipo de inversión en el cual se busca obtener un rendimiento replicando el comportamiento de algún indice\n",
    "    \n",
    "<font color= black> <font size=2> __Indice Bursátil__: Un indice bursátil es un indicador de un conjunto de activos para poder llevar una mejor referencia de la variación de los precios que estan incluidos en el indice"
   ]
  },
  {
   "cell_type": "markdown",
   "metadata": {},
   "source": [
    "<br>"
   ]
  },
  {
   "cell_type": "markdown",
   "metadata": {},
   "source": [
    "# <font color= #6B6B6B> <font size = 6> 2. Objetivos </font>"
   ]
  },
  {
   "cell_type": "markdown",
   "metadata": {},
   "source": [
    "<hr style=\"border:0.02in solid gray\"> </hr>"
   ]
  },
  {
   "cell_type": "markdown",
   "metadata": {},
   "source": [
    "Poder responder la pregunta ¿Qué estrategia de inversión propondrías si tu trabajo fuera administrar 1 Millón de pesos?\n",
    "\n"
   ]
  },
  {
   "cell_type": "markdown",
   "metadata": {},
   "source": [
    "<br>"
   ]
  },
  {
   "cell_type": "markdown",
   "metadata": {},
   "source": [
    "# <font color= #6B6B6B> <font size = 6> 3. Datos </font>"
   ]
  },
  {
   "cell_type": "markdown",
   "metadata": {},
   "source": [
    "<hr style=\"border:0.02in solid gray\"> </hr>"
   ]
  },
  {
   "cell_type": "code",
   "execution_count": 1,
   "metadata": {
    "ExecuteTime": {
     "end_time": "2020-09-14T04:07:29.568547Z",
     "start_time": "2020-09-14T04:07:28.672184Z"
    }
   },
   "outputs": [
    {
     "data": {
      "text/plain": [
       "'C:\\\\Users\\\\jobch\\\\Documents\\\\ITESO\\\\OneDrive - ITESO\\\\ITESO\\\\9no Semestre\\\\Microestructuras y Sistemas de Trading\\\\myst_lab1_JRC\\\\files\\\\NAFTRAC_holdings'"
      ]
     },
     "execution_count": 1,
     "metadata": {},
     "output_type": "execute_result"
    }
   ],
   "source": [
    "from os import path\n",
    "import functions\n",
    "import data \n",
    "import yfinance as yf\n",
    "\n",
    "abspath = path.abspath('files/NAFTRAC_holdings')\n",
    "abspath"
   ]
  },
  {
   "cell_type": "code",
   "execution_count": 2,
   "metadata": {
    "ExecuteTime": {
     "end_time": "2020-09-14T04:07:30.011364Z",
     "start_time": "2020-09-14T04:07:29.570543Z"
    }
   },
   "outputs": [
    {
     "data": {
      "text/html": [
       "<div>\n",
       "<style scoped>\n",
       "    .dataframe tbody tr th:only-of-type {\n",
       "        vertical-align: middle;\n",
       "    }\n",
       "\n",
       "    .dataframe tbody tr th {\n",
       "        vertical-align: top;\n",
       "    }\n",
       "\n",
       "    .dataframe thead th {\n",
       "        text-align: right;\n",
       "    }\n",
       "</style>\n",
       "<table border=\"1\" class=\"dataframe\">\n",
       "  <thead>\n",
       "    <tr style=\"text-align: right;\">\n",
       "      <th></th>\n",
       "      <th>Ticker</th>\n",
       "      <th>Nombre</th>\n",
       "      <th>Clase de activo</th>\n",
       "      <th>Peso (%)</th>\n",
       "      <th>Precio</th>\n",
       "      <th>Acciones</th>\n",
       "      <th>Valor de mercado</th>\n",
       "      <th>Valor nominal</th>\n",
       "      <th>Sector</th>\n",
       "      <th>ISIN</th>\n",
       "      <th>Bolsa de valores</th>\n",
       "      <th>Ubicación</th>\n",
       "      <th>Moneda</th>\n",
       "      <th>Mercado de divisas</th>\n",
       "      <th>Tipo de Cambio</th>\n",
       "    </tr>\n",
       "  </thead>\n",
       "  <tbody>\n",
       "    <tr>\n",
       "      <th>0</th>\n",
       "      <td>AMXL</td>\n",
       "      <td>AMERICA MOVIL L</td>\n",
       "      <td>Equity</td>\n",
       "      <td>0.1331</td>\n",
       "      <td>17.44</td>\n",
       "      <td>309,663,816.00</td>\n",
       "      <td>5,400,536,951.04</td>\n",
       "      <td>5,400,536,951.04</td>\n",
       "      <td>Telecomunicaciones</td>\n",
       "      <td>MXP001691213</td>\n",
       "      <td>Bolsa Mexicana De Valores</td>\n",
       "      <td>México</td>\n",
       "      <td>MXN</td>\n",
       "      <td>MXN</td>\n",
       "      <td>1.00</td>\n",
       "    </tr>\n",
       "    <tr>\n",
       "      <th>1</th>\n",
       "      <td>FEMSAUBD</td>\n",
       "      <td>FOMENTO ECONOMICO MEXICANO</td>\n",
       "      <td>Equity</td>\n",
       "      <td>0.1269</td>\n",
       "      <td>181.52</td>\n",
       "      <td>28,367,196.00</td>\n",
       "      <td>5,149,213,417.92</td>\n",
       "      <td>5,149,213,417.92</td>\n",
       "      <td>Productos básicos de consumo</td>\n",
       "      <td>MXP320321310</td>\n",
       "      <td>Bolsa Mexicana De Valores</td>\n",
       "      <td>México</td>\n",
       "      <td>MXN</td>\n",
       "      <td>MXN</td>\n",
       "      <td>1.00</td>\n",
       "    </tr>\n",
       "    <tr>\n",
       "      <th>2</th>\n",
       "      <td>GFNORTEO</td>\n",
       "      <td>GPO FINANCE BANORTE</td>\n",
       "      <td>Equity</td>\n",
       "      <td>0.0951</td>\n",
       "      <td>119.58</td>\n",
       "      <td>32,280,468.00</td>\n",
       "      <td>3,860,098,363.44</td>\n",
       "      <td>3,860,098,363.44</td>\n",
       "      <td>Financieros</td>\n",
       "      <td>MXP370711014</td>\n",
       "      <td>Bolsa Mexicana De Valores</td>\n",
       "      <td>México</td>\n",
       "      <td>MXN</td>\n",
       "      <td>MXN</td>\n",
       "      <td>1.00</td>\n",
       "    </tr>\n",
       "  </tbody>\n",
       "</table>\n",
       "</div>"
      ],
      "text/plain": [
       "     Ticker                      Nombre Clase de activo  Peso (%)  Precio  \\\n",
       "0      AMXL             AMERICA MOVIL L          Equity    0.1331   17.44   \n",
       "1  FEMSAUBD  FOMENTO ECONOMICO MEXICANO          Equity    0.1269  181.52   \n",
       "2  GFNORTEO         GPO FINANCE BANORTE          Equity    0.0951  119.58   \n",
       "\n",
       "         Acciones  Valor de mercado     Valor nominal  \\\n",
       "0  309,663,816.00  5,400,536,951.04  5,400,536,951.04   \n",
       "1   28,367,196.00  5,149,213,417.92  5,149,213,417.92   \n",
       "2   32,280,468.00  3,860,098,363.44  3,860,098,363.44   \n",
       "\n",
       "                         Sector          ISIN           Bolsa de valores  \\\n",
       "0            Telecomunicaciones  MXP001691213  Bolsa Mexicana De Valores   \n",
       "1  Productos básicos de consumo  MXP320321310  Bolsa Mexicana De Valores   \n",
       "2                   Financieros  MXP370711014  Bolsa Mexicana De Valores   \n",
       "\n",
       "  Ubicación Moneda Mercado de divisas Tipo de Cambio  \n",
       "0    México    MXN                MXN           1.00  \n",
       "1    México    MXN                MXN           1.00  \n",
       "2    México    MXN                MXN           1.00  "
      ]
     },
     "execution_count": 2,
     "metadata": {},
     "output_type": "execute_result"
    }
   ],
   "source": [
    "path = data.f_pathnames(abspath)\n",
    "dictionary = data.f_dictionary(path)\n",
    "dictionary[path[0]].head(3)"
   ]
  },
  {
   "cell_type": "code",
   "execution_count": 3,
   "metadata": {
    "ExecuteTime": {
     "end_time": "2020-09-14T04:07:30.017348Z",
     "start_time": "2020-09-14T04:07:30.013358Z"
    }
   },
   "outputs": [],
   "source": [
    "# En esta sección es opcional incluir código para mostrar/visualizar\n",
    "# los datos con los que se trabajó en el laboratorio"
   ]
  },
  {
   "cell_type": "markdown",
   "metadata": {},
   "source": [
    "<br>"
   ]
  },
  {
   "cell_type": "markdown",
   "metadata": {},
   "source": [
    "# <font color= #6B6B6B> <font size = 6> 4. Procesos </font>"
   ]
  },
  {
   "cell_type": "markdown",
   "metadata": {},
   "source": [
    "<hr style=\"border:0.02in solid gray\"> </hr>"
   ]
  },
  {
   "cell_type": "code",
   "execution_count": 4,
   "metadata": {
    "ExecuteTime": {
     "end_time": "2020-09-14T04:07:30.215817Z",
     "start_time": "2020-09-14T04:07:30.019342Z"
    }
   },
   "outputs": [],
   "source": [
    "### Importar Librerias\n",
    "\n",
    "import functions\n",
    "from functions import *\n",
    "from data import *\n",
    "import pandas as pd\n"
   ]
  },
  {
   "cell_type": "code",
   "execution_count": 5,
   "metadata": {
    "ExecuteTime": {
     "end_time": "2020-09-14T04:07:59.133382Z",
     "start_time": "2020-09-14T04:07:30.216827Z"
    }
   },
   "outputs": [
    {
     "name": "stdout",
     "output_type": "stream",
     "text": [
      "[*********************100%***********************]  39 of 39 completed\n"
     ]
    }
   ],
   "source": [
    "#Datos inversion Pasiva\n",
    "\n",
    "abspath = path.abspath('files/NAFTRAC_holdings')  #\n",
    "\n",
    "capital = 1000000\n",
    "commission = 0.00125\n",
    "inv_pasiva = {'timestamp': ['30-01-2018'], 'capital': [capital]}\n",
    "path = f_pathnames(abspath)\n",
    "tdates = f_fechas(path)\n",
    "vdates = pd.date_range(start=f_fechas(path)[0], end=f_fechas(path)[-1])  #\n",
    "vdates = vdates.strftime('%Y-%m-%d')  #\n",
    "path = f_pathnames(abspath)\n",
    "dictionary = f_dictionary(path)\n",
    "price = f_yfprices(path)\n",
    "price_close = price[0]\n",
    "price_open = price[1]\n",
    "m = f_mprices(price_close, path)"
   ]
  },
  {
   "cell_type": "code",
   "execution_count": 6,
   "metadata": {
    "ExecuteTime": {
     "end_time": "2020-09-14T04:07:59.735128Z",
     "start_time": "2020-09-14T04:07:59.135291Z"
    }
   },
   "outputs": [
    {
     "data": {
      "text/html": [
       "<div>\n",
       "<style scoped>\n",
       "    .dataframe tbody tr th:only-of-type {\n",
       "        vertical-align: middle;\n",
       "    }\n",
       "\n",
       "    .dataframe tbody tr th {\n",
       "        vertical-align: top;\n",
       "    }\n",
       "\n",
       "    .dataframe thead th {\n",
       "        text-align: right;\n",
       "    }\n",
       "</style>\n",
       "<table border=\"1\" class=\"dataframe\">\n",
       "  <thead>\n",
       "    <tr style=\"text-align: right;\">\n",
       "      <th></th>\n",
       "      <th>timestamp</th>\n",
       "      <th>capital</th>\n",
       "      <th>rend</th>\n",
       "      <th>rend_acum</th>\n",
       "    </tr>\n",
       "  </thead>\n",
       "  <tbody>\n",
       "    <tr>\n",
       "      <th>0</th>\n",
       "      <td>30-01-2018</td>\n",
       "      <td>1000000.000000</td>\n",
       "      <td>0.000000</td>\n",
       "      <td>0.000000</td>\n",
       "    </tr>\n",
       "    <tr>\n",
       "      <th>1</th>\n",
       "      <td>2018-01-31</td>\n",
       "      <td>998805.363175</td>\n",
       "      <td>-0.001195</td>\n",
       "      <td>-0.001195</td>\n",
       "    </tr>\n",
       "    <tr>\n",
       "      <th>2</th>\n",
       "      <td>2018-02-28</td>\n",
       "      <td>943330.669604</td>\n",
       "      <td>-0.057143</td>\n",
       "      <td>-0.058338</td>\n",
       "    </tr>\n",
       "    <tr>\n",
       "      <th>3</th>\n",
       "      <td>2018-03-28</td>\n",
       "      <td>918905.545899</td>\n",
       "      <td>-0.026234</td>\n",
       "      <td>-0.084572</td>\n",
       "    </tr>\n",
       "    <tr>\n",
       "      <th>4</th>\n",
       "      <td>2018-04-30</td>\n",
       "      <td>961771.832432</td>\n",
       "      <td>0.045594</td>\n",
       "      <td>-0.038978</td>\n",
       "    </tr>\n",
       "  </tbody>\n",
       "</table>\n",
       "</div>"
      ],
      "text/plain": [
       "    timestamp         capital      rend  rend_acum\n",
       "0  30-01-2018  1000000.000000  0.000000   0.000000\n",
       "1  2018-01-31   998805.363175 -0.001195  -0.001195\n",
       "2  2018-02-28   943330.669604 -0.057143  -0.058338\n",
       "3  2018-03-28   918905.545899 -0.026234  -0.084572\n",
       "4  2018-04-30   961771.832432  0.045594  -0.038978"
      ]
     },
     "execution_count": 6,
     "metadata": {},
     "output_type": "execute_result"
    }
   ],
   "source": [
    "# Imprimir df_pasiva\n",
    "functions.f_pasiva(capital, m, commission, inv_pasiva, path)\n",
    "df_pasiva = functions.f_dfpasiva(inv_pasiva)\n",
    "df_pasiva.head(5)"
   ]
  },
  {
   "cell_type": "code",
   "execution_count": 7,
   "metadata": {
    "ExecuteTime": {
     "end_time": "2020-09-14T04:08:06.449770Z",
     "start_time": "2020-09-14T04:07:59.737109Z"
    }
   },
   "outputs": [],
   "source": [
    "#Datos inversión Activa\n",
    "\n",
    "price_rend_c = -0.01\n",
    "perc = 0.1\n",
    "inv_activa_d = {'timestamp': [], 'titulos_totales': [], 'titulos_compra': [], 'precio': [], 'comision': []}\n",
    "inv_activa = {'timestamp': ['30-01-2018'], 'capital': [capital]}\n",
    "d_open = f_dprices(price_open, path)\n",
    "d_close = f_dprices(price_close, path)\n"
   ]
  },
  {
   "cell_type": "code",
   "execution_count": 8,
   "metadata": {
    "ExecuteTime": {
     "end_time": "2020-09-14T04:08:08.705095Z",
     "start_time": "2020-09-14T04:08:06.453761Z"
    }
   },
   "outputs": [
    {
     "data": {
      "text/html": [
       "<div>\n",
       "<style scoped>\n",
       "    .dataframe tbody tr th:only-of-type {\n",
       "        vertical-align: middle;\n",
       "    }\n",
       "\n",
       "    .dataframe tbody tr th {\n",
       "        vertical-align: top;\n",
       "    }\n",
       "\n",
       "    .dataframe thead th {\n",
       "        text-align: right;\n",
       "    }\n",
       "</style>\n",
       "<table border=\"1\" class=\"dataframe\">\n",
       "  <thead>\n",
       "    <tr style=\"text-align: right;\">\n",
       "      <th></th>\n",
       "      <th>timestamp</th>\n",
       "      <th>capital</th>\n",
       "      <th>rend</th>\n",
       "      <th>rend_acum</th>\n",
       "    </tr>\n",
       "  </thead>\n",
       "  <tbody>\n",
       "    <tr>\n",
       "      <th>0</th>\n",
       "      <td>30-01-2018</td>\n",
       "      <td>1.000000e+06</td>\n",
       "      <td>0.000000</td>\n",
       "      <td>0.000000</td>\n",
       "    </tr>\n",
       "    <tr>\n",
       "      <th>1</th>\n",
       "      <td>2018-01-30</td>\n",
       "      <td>9.988890e+05</td>\n",
       "      <td>-0.001112</td>\n",
       "      <td>-0.001112</td>\n",
       "    </tr>\n",
       "    <tr>\n",
       "      <th>2</th>\n",
       "      <td>2018-01-31</td>\n",
       "      <td>1.000988e+06</td>\n",
       "      <td>0.002099</td>\n",
       "      <td>0.000988</td>\n",
       "    </tr>\n",
       "    <tr>\n",
       "      <th>3</th>\n",
       "      <td>2018-02-01</td>\n",
       "      <td>1.002553e+06</td>\n",
       "      <td>0.001562</td>\n",
       "      <td>0.002550</td>\n",
       "    </tr>\n",
       "    <tr>\n",
       "      <th>4</th>\n",
       "      <td>2018-02-02</td>\n",
       "      <td>9.999647e+05</td>\n",
       "      <td>-0.002585</td>\n",
       "      <td>-0.000035</td>\n",
       "    </tr>\n",
       "  </tbody>\n",
       "</table>\n",
       "</div>"
      ],
      "text/plain": [
       "    timestamp       capital      rend  rend_acum\n",
       "0  30-01-2018  1.000000e+06  0.000000   0.000000\n",
       "1  2018-01-30  9.988890e+05 -0.001112  -0.001112\n",
       "2  2018-01-31  1.000988e+06  0.002099   0.000988\n",
       "3  2018-02-01  1.002553e+06  0.001562   0.002550\n",
       "4  2018-02-02  9.999647e+05 -0.002585  -0.000035"
      ]
     },
     "execution_count": 8,
     "metadata": {},
     "output_type": "execute_result"
    }
   ],
   "source": [
    "#Imprimir df_activa\n",
    "\n",
    "functions.f_activa(price_open, price_close, capital, commission, path, inv_activa_d, inv_activa, price_rend_c, perc)\n",
    "df_activa = functions.f_dfactiva(inv_activa)\n",
    "df_activa.head(5)"
   ]
  },
  {
   "cell_type": "code",
   "execution_count": 9,
   "metadata": {
    "ExecuteTime": {
     "end_time": "2020-09-14T04:08:08.729002Z",
     "start_time": "2020-09-14T04:08:08.707062Z"
    }
   },
   "outputs": [
    {
     "data": {
      "text/html": [
       "<div>\n",
       "<style scoped>\n",
       "    .dataframe tbody tr th:only-of-type {\n",
       "        vertical-align: middle;\n",
       "    }\n",
       "\n",
       "    .dataframe tbody tr th {\n",
       "        vertical-align: top;\n",
       "    }\n",
       "\n",
       "    .dataframe thead th {\n",
       "        text-align: right;\n",
       "    }\n",
       "</style>\n",
       "<table border=\"1\" class=\"dataframe\">\n",
       "  <thead>\n",
       "    <tr style=\"text-align: right;\">\n",
       "      <th></th>\n",
       "      <th>timestamp</th>\n",
       "      <th>titulos_totales</th>\n",
       "      <th>titulos_compra</th>\n",
       "      <th>precio</th>\n",
       "      <th>comision</th>\n",
       "    </tr>\n",
       "  </thead>\n",
       "  <tbody>\n",
       "    <tr>\n",
       "      <th>0</th>\n",
       "      <td>2018-01-30</td>\n",
       "      <td>3804.0</td>\n",
       "      <td>3804.0</td>\n",
       "      <td>17.469999</td>\n",
       "      <td>83.069847</td>\n",
       "    </tr>\n",
       "    <tr>\n",
       "      <th>1</th>\n",
       "      <td>2018-02-09</td>\n",
       "      <td>4463.0</td>\n",
       "      <td>659.0</td>\n",
       "      <td>16.660000</td>\n",
       "      <td>13.723675</td>\n",
       "    </tr>\n",
       "    <tr>\n",
       "      <th>2</th>\n",
       "      <td>2018-02-20</td>\n",
       "      <td>5021.0</td>\n",
       "      <td>558.0</td>\n",
       "      <td>17.709999</td>\n",
       "      <td>12.352724</td>\n",
       "    </tr>\n",
       "    <tr>\n",
       "      <th>3</th>\n",
       "      <td>2018-03-01</td>\n",
       "      <td>5534.0</td>\n",
       "      <td>513.0</td>\n",
       "      <td>17.340000</td>\n",
       "      <td>11.119275</td>\n",
       "    </tr>\n",
       "    <tr>\n",
       "      <th>4</th>\n",
       "      <td>2018-03-07</td>\n",
       "      <td>5995.0</td>\n",
       "      <td>461.0</td>\n",
       "      <td>17.389999</td>\n",
       "      <td>10.020987</td>\n",
       "    </tr>\n",
       "    <tr>\n",
       "      <th>...</th>\n",
       "      <td>...</td>\n",
       "      <td>...</td>\n",
       "      <td>...</td>\n",
       "      <td>...</td>\n",
       "      <td>...</td>\n",
       "    </tr>\n",
       "    <tr>\n",
       "      <th>61</th>\n",
       "      <td>2018-12-24</td>\n",
       "      <td>10275.0</td>\n",
       "      <td>1.0</td>\n",
       "      <td>14.110000</td>\n",
       "      <td>0.017637</td>\n",
       "    </tr>\n",
       "    <tr>\n",
       "      <th>62</th>\n",
       "      <td>2019-01-11</td>\n",
       "      <td>10276.0</td>\n",
       "      <td>1.0</td>\n",
       "      <td>14.940000</td>\n",
       "      <td>0.018675</td>\n",
       "    </tr>\n",
       "    <tr>\n",
       "      <th>63</th>\n",
       "      <td>2019-01-14</td>\n",
       "      <td>10277.0</td>\n",
       "      <td>1.0</td>\n",
       "      <td>14.750000</td>\n",
       "      <td>0.018437</td>\n",
       "    </tr>\n",
       "    <tr>\n",
       "      <th>64</th>\n",
       "      <td>2019-02-14</td>\n",
       "      <td>10278.0</td>\n",
       "      <td>1.0</td>\n",
       "      <td>14.270000</td>\n",
       "      <td>0.017838</td>\n",
       "    </tr>\n",
       "    <tr>\n",
       "      <th>65</th>\n",
       "      <td>2019-08-06</td>\n",
       "      <td>10279.0</td>\n",
       "      <td>1.0</td>\n",
       "      <td>12.970000</td>\n",
       "      <td>0.016213</td>\n",
       "    </tr>\n",
       "  </tbody>\n",
       "</table>\n",
       "<p>66 rows × 5 columns</p>\n",
       "</div>"
      ],
      "text/plain": [
       "     timestamp  titulos_totales  titulos_compra     precio   comision\n",
       "0   2018-01-30           3804.0          3804.0  17.469999  83.069847\n",
       "1   2018-02-09           4463.0           659.0  16.660000  13.723675\n",
       "2   2018-02-20           5021.0           558.0  17.709999  12.352724\n",
       "3   2018-03-01           5534.0           513.0  17.340000  11.119275\n",
       "4   2018-03-07           5995.0           461.0  17.389999  10.020987\n",
       "..         ...              ...             ...        ...        ...\n",
       "61  2018-12-24          10275.0             1.0  14.110000   0.017637\n",
       "62  2019-01-11          10276.0             1.0  14.940000   0.018675\n",
       "63  2019-01-14          10277.0             1.0  14.750000   0.018437\n",
       "64  2019-02-14          10278.0             1.0  14.270000   0.017838\n",
       "65  2019-08-06          10279.0             1.0  12.970000   0.016213\n",
       "\n",
       "[66 rows x 5 columns]"
      ]
     },
     "execution_count": 9,
     "metadata": {},
     "output_type": "execute_result"
    }
   ],
   "source": [
    "#Operaciones Activa\n",
    "\n",
    "op_hist = functions.f_operations(inv_activa_d)\n",
    "op_hist\n"
   ]
  },
  {
   "cell_type": "code",
   "execution_count": 10,
   "metadata": {
    "ExecuteTime": {
     "end_time": "2020-09-14T04:08:08.961378Z",
     "start_time": "2020-09-14T04:08:08.730998Z"
    }
   },
   "outputs": [
    {
     "data": {
      "text/html": [
       "<div>\n",
       "<style scoped>\n",
       "    .dataframe tbody tr th:only-of-type {\n",
       "        vertical-align: middle;\n",
       "    }\n",
       "\n",
       "    .dataframe tbody tr th {\n",
       "        vertical-align: top;\n",
       "    }\n",
       "\n",
       "    .dataframe thead th {\n",
       "        text-align: right;\n",
       "    }\n",
       "</style>\n",
       "<table border=\"1\" class=\"dataframe\">\n",
       "  <thead>\n",
       "    <tr style=\"text-align: right;\">\n",
       "      <th></th>\n",
       "      <th>timestamp</th>\n",
       "      <th>Inversión Pasiva</th>\n",
       "      <th>Inversión Activa</th>\n",
       "    </tr>\n",
       "  </thead>\n",
       "  <tbody>\n",
       "    <tr>\n",
       "      <th>0</th>\n",
       "      <td>30-01-2018</td>\n",
       "      <td>1000000.000000</td>\n",
       "      <td>1.000000e+06</td>\n",
       "    </tr>\n",
       "    <tr>\n",
       "      <th>1</th>\n",
       "      <td>2018-01-31</td>\n",
       "      <td>998805.363175</td>\n",
       "      <td>9.988890e+05</td>\n",
       "    </tr>\n",
       "    <tr>\n",
       "      <th>2</th>\n",
       "      <td>2018-02-28</td>\n",
       "      <td>943330.669604</td>\n",
       "      <td>1.000988e+06</td>\n",
       "    </tr>\n",
       "    <tr>\n",
       "      <th>3</th>\n",
       "      <td>2018-03-28</td>\n",
       "      <td>918905.545899</td>\n",
       "      <td>1.002553e+06</td>\n",
       "    </tr>\n",
       "    <tr>\n",
       "      <th>4</th>\n",
       "      <td>2018-04-30</td>\n",
       "      <td>961771.832432</td>\n",
       "      <td>9.999647e+05</td>\n",
       "    </tr>\n",
       "  </tbody>\n",
       "</table>\n",
       "</div>"
      ],
      "text/plain": [
       "    timestamp  Inversión Pasiva  Inversión Activa\n",
       "0  30-01-2018    1000000.000000      1.000000e+06\n",
       "1  2018-01-31     998805.363175      9.988890e+05\n",
       "2  2018-02-28     943330.669604      1.000988e+06\n",
       "3  2018-03-28     918905.545899      1.002553e+06\n",
       "4  2018-04-30     961771.832432      9.999647e+05"
      ]
     },
     "execution_count": 10,
     "metadata": {},
     "output_type": "execute_result"
    }
   ],
   "source": [
    "#Comparar Pasiva vs Activa\n",
    "PasivevsActive = pd.DataFrame()\n",
    "PasivevsActive[\"timestamp\"] = df_pasiva['timestamp']\n",
    "PasivevsActive[\"Inversión Pasiva\"] = df_pasiva['capital']\n",
    "PasivevsActive[\"Inversión Activa\"] = df_activa['capital']\n",
    "PasivevsActive.head(5)"
   ]
  },
  {
   "cell_type": "code",
   "execution_count": 11,
   "metadata": {
    "ExecuteTime": {
     "end_time": "2020-09-14T04:08:09.188519Z",
     "start_time": "2020-09-14T04:08:08.964373Z"
    }
   },
   "outputs": [
    {
     "data": {
      "text/html": [
       "<div>\n",
       "<style scoped>\n",
       "    .dataframe tbody tr th:only-of-type {\n",
       "        vertical-align: middle;\n",
       "    }\n",
       "\n",
       "    .dataframe tbody tr th {\n",
       "        vertical-align: top;\n",
       "    }\n",
       "\n",
       "    .dataframe thead th {\n",
       "        text-align: right;\n",
       "    }\n",
       "</style>\n",
       "<table border=\"1\" class=\"dataframe\">\n",
       "  <thead>\n",
       "    <tr style=\"text-align: right;\">\n",
       "      <th></th>\n",
       "      <th>medida</th>\n",
       "      <th>descripcion</th>\n",
       "      <th>inv_pasiva</th>\n",
       "      <th>inv_activa</th>\n",
       "    </tr>\n",
       "  </thead>\n",
       "  <tbody>\n",
       "    <tr>\n",
       "      <th>0</th>\n",
       "      <td>rend_m</td>\n",
       "      <td>Rendimiento Promedio Mensual</td>\n",
       "      <td>-0.007735</td>\n",
       "      <td>-0.000402</td>\n",
       "    </tr>\n",
       "    <tr>\n",
       "      <th>1</th>\n",
       "      <td>rend_c</td>\n",
       "      <td>Rendimiento Mensual Acumulado</td>\n",
       "      <td>-0.255244</td>\n",
       "      <td>-0.259205</td>\n",
       "    </tr>\n",
       "    <tr>\n",
       "      <th>2</th>\n",
       "      <td>sharpe</td>\n",
       "      <td>Ratio de Sharpe</td>\n",
       "      <td>-0.288479</td>\n",
       "      <td>-0.078611</td>\n",
       "    </tr>\n",
       "  </tbody>\n",
       "</table>\n",
       "</div>"
      ],
      "text/plain": [
       "   medida                    descripcion  inv_pasiva  inv_activa\n",
       "0  rend_m   Rendimiento Promedio Mensual   -0.007735   -0.000402\n",
       "1  rend_c  Rendimiento Mensual Acumulado   -0.255244   -0.259205\n",
       "2  sharpe                Ratio de Sharpe   -0.288479   -0.078611"
      ]
     },
     "execution_count": 11,
     "metadata": {},
     "output_type": "execute_result"
    }
   ],
   "source": [
    "# Medidas de Desempeño\n",
    "# Medidas de Atribución al Desempeño\n",
    "rf = 0.0770\n",
    "rf_m = rf / 12\n",
    "\n",
    "perf = functions.f_sharpe(df_pasiva, df_activa, rf_m)\n",
    "perf.head(5)"
   ]
  },
  {
   "cell_type": "markdown",
   "metadata": {},
   "source": [
    "<br>"
   ]
  },
  {
   "cell_type": "markdown",
   "metadata": {},
   "source": [
    "# <font color= #6B6B6B> <font size = 6> 5. Conclusiones </font>"
   ]
  },
  {
   "cell_type": "markdown",
   "metadata": {},
   "source": [
    "<hr style=\"border:0.02in solid gray\"> </hr>"
   ]
  },
  {
   "cell_type": "markdown",
   "metadata": {},
   "source": [
    "Podemos concluir que en este caso, nos es más conveniente hacer la inversión pasiva, ya que en activa se pretende ir monitoreando nuestros precios y hacer ajustes cuando sea necesario para poder elminar el riesgo. Sin embargo, esto nosucedio en este caso y solo fuimos gastando nuestro capital para tratar de reducir el riesgo y no hubo el rendimiento suficiente en este periodo para recuperar ese dinero, esto se debe a este caso exclusivamente porque el periodo tuvo una tendencia bajista, es por eso que nos es mejor hacer una inversion pasiva solo en este caso, ya que no hubieramos gastado ese dinero en inversión activa y terminabamos con un mejor rendimiento"
   ]
  },
  {
   "cell_type": "code",
   "execution_count": 12,
   "metadata": {
    "ExecuteTime": {
     "end_time": "2020-09-14T04:08:09.792254Z",
     "start_time": "2020-09-14T04:08:09.191479Z"
    }
   },
   "outputs": [
    {
     "data": {
      "text/html": [
       "<style>body {\n",
       "    margin: 0;\n",
       "    font-family: Helvetica;\n",
       "}\n",
       "table.dataframe {\n",
       "    border-collapse: collapse;\n",
       "    border: none;\n",
       "}\n",
       "table.dataframe tr {\n",
       "    border: none;\n",
       "}\n",
       "table.dataframe td, table.dataframe th {\n",
       "    margin: 0;\n",
       "    border: 1px solid white;\n",
       "    padding-left: 0.25em;\n",
       "    padding-right: 0.25em;\n",
       "}\n",
       "table.dataframe th:not(:empty) {\n",
       "    background-color: #fec;\n",
       "    text-align: left;\n",
       "    font-weight: normal;\n",
       "}\n",
       "table.dataframe tr:nth-child(2) th:empty {\n",
       "    border-left: none;\n",
       "    border-right: 1px dashed #888;\n",
       "}\n",
       "table.dataframe td {\n",
       "    border: 2px solid #ccf;\n",
       "    background-color: #f4f4ff;\n",
       "}\n",
       "h3 {\n",
       "    color: white;\n",
       "    background-color: black;\n",
       "    padding: 0.5em;\n",
       "}\n",
       "</style>"
      ],
      "text/plain": [
       "<IPython.core.display.HTML object>"
      ]
     },
     "execution_count": 12,
     "metadata": {},
     "output_type": "execute_result"
    }
   ],
   "source": [
    "from IPython.core.display import HTML\n",
    "css = open('style-table.css').read() + open('style-notebook.css').read()\n",
    "HTML('<style>{}</style>'.format(css))"
   ]
  }
 ],
 "metadata": {
  "kernelspec": {
   "display_name": "Python 3",
   "language": "python",
   "name": "python3"
  },
  "language_info": {
   "codemirror_mode": {
    "name": "ipython",
    "version": 3
   },
   "file_extension": ".py",
   "mimetype": "text/x-python",
   "name": "python",
   "nbconvert_exporter": "python",
   "pygments_lexer": "ipython3",
   "version": "3.8.3"
  }
 },
 "nbformat": 4,
 "nbformat_minor": 1
}
